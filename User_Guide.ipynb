{
 "cells": [
  {
   "cell_type": "markdown",
   "metadata": {},
   "source": [
    "# Multi-Service Chatbot Usage Guide"
   ]
  },
  {
   "cell_type": "markdown",
   "metadata": {},
   "source": [
    "## Running the chat bot app"
   ]
  },
  {
   "cell_type": "markdown",
   "metadata": {},
   "source": [
    "### Running the server"
   ]
  },
  {
   "cell_type": "markdown",
   "metadata": {},
   "source": [
    "Start the FastAPI server:"
   ]
  },
  {
   "cell_type": "code",
   "execution_count": 2,
   "metadata": {},
   "outputs": [
    {
     "name": "stderr",
     "output_type": "stream",
     "text": [
      "INFO:     Started server process [23564]\n",
      "INFO:     Waiting for application startup.\n",
      "2025-01-02 11:21:23,054 - INFO - ==================================================\n",
      "2025-01-02 11:21:23,059 - INFO - FastAPI service starting up\n",
      "2025-01-02 11:21:23,061 - INFO - Mode: PRODUCTION\n",
      "2025-01-02 11:21:23,064 - INFO - Log directory: c:\\Users\\mhorovic\\OneDrive - Emerson\\Documents\\VSCode\\AI Engineer Assigment\\logs\n",
      "2025-01-02 11:21:23,066 - INFO - ==================================================\n",
      "INFO:     Application startup complete.\n",
      "INFO:     Uvicorn running on http://127.0.0.1:8000 (Press CTRL+C to quit)\n"
     ]
    }
   ],
   "source": [
    "import nest_asyncio\n",
    "import uvicorn\n",
    "from threading import Thread\n",
    "\n",
    "# Enable asyncio in notebook\n",
    "nest_asyncio.apply()\n",
    "\n",
    "# Run FastAPI in a separate thread\n",
    "def run_fastapi():\n",
    "    uvicorn.run(\"src.services.service:app\", port=8000)\n",
    "\n",
    "Thread(target=run_fastapi, daemon=True).start()"
   ]
  },
  {
   "cell_type": "markdown",
   "metadata": {},
   "source": [
    "This will start the server at http://localhost:8000. The --reload flag enables auto-reload on code changes.\n",
    "\n",
    "Verify the server is running by checking the logs or visiting http://localhost:8000/docs for the Swagger documentation."
   ]
  },
  {
   "cell_type": "markdown",
   "metadata": {},
   "source": [
    "### Running the UI"
   ]
  },
  {
   "cell_type": "markdown",
   "metadata": {},
   "source": [
    "Start the Streamlit UI"
   ]
  },
  {
   "cell_type": "code",
   "execution_count": 2,
   "metadata": {},
   "outputs": [
    {
     "name": "stderr",
     "output_type": "stream",
     "text": [
      "INFO:     Started server process [7976]\n",
      "INFO:     Waiting for application startup.\n",
      "2025-01-02 10:39:13,319 - INFO - ==================================================\n",
      "2025-01-02 10:39:13,326 - INFO - FastAPI service starting up\n",
      "2025-01-02 10:39:13,329 - INFO - Mode: PRODUCTION\n",
      "2025-01-02 10:39:13,336 - INFO - Log directory: c:\\Users\\mhorovic\\OneDrive - Emerson\\Documents\\VSCode\\AI Engineer Assigment\\logs\n",
      "2025-01-02 10:39:13,342 - INFO - ==================================================\n",
      "INFO:     Application startup complete.\n",
      "INFO:     Uvicorn running on http://127.0.0.1:8000 (Press CTRL+C to quit)\n",
      "2025-01-02 10:39:53,759 - INFO - Request 1735807193759 received - Prompt: i want a song about the sun\n",
      "2025-01-02 10:39:55,244 - INFO - HTTP Request: POST https://api.openai.com/v1/chat/completions \"HTTP/1.1 200 OK\"\n",
      "c:\\Users\\mhorovic\\flux\\.venv\\lib\\site-packages\\urllib3\\connectionpool.py:1097: InsecureRequestWarning: Unverified HTTPS request is being made to host 'udioapi.pro'. Adding certificate verification is strongly advised. See: https://urllib3.readthedocs.io/en/latest/advanced-usage.html#tls-warnings\n",
      "  warnings.warn(\n",
      "c:\\Users\\mhorovic\\flux\\.venv\\lib\\site-packages\\urllib3\\connectionpool.py:1097: InsecureRequestWarning: Unverified HTTPS request is being made to host 'udioapi.pro'. Adding certificate verification is strongly advised. See: https://urllib3.readthedocs.io/en/latest/advanced-usage.html#tls-warnings\n",
      "  warnings.warn(\n",
      "c:\\Users\\mhorovic\\flux\\.venv\\lib\\site-packages\\urllib3\\connectionpool.py:1097: InsecureRequestWarning: Unverified HTTPS request is being made to host 'udioapi.pro'. Adding certificate verification is strongly advised. See: https://urllib3.readthedocs.io/en/latest/advanced-usage.html#tls-warnings\n",
      "  warnings.warn(\n",
      "c:\\Users\\mhorovic\\flux\\.venv\\lib\\site-packages\\urllib3\\connectionpool.py:1097: InsecureRequestWarning: Unverified HTTPS request is being made to host 'udioapi.pro'. Adding certificate verification is strongly advised. See: https://urllib3.readthedocs.io/en/latest/advanced-usage.html#tls-warnings\n",
      "  warnings.warn(\n",
      "c:\\Users\\mhorovic\\flux\\.venv\\lib\\site-packages\\urllib3\\connectionpool.py:1097: InsecureRequestWarning: Unverified HTTPS request is being made to host 'udioapi.pro'. Adding certificate verification is strongly advised. See: https://urllib3.readthedocs.io/en/latest/advanced-usage.html#tls-warnings\n",
      "  warnings.warn(\n",
      "c:\\Users\\mhorovic\\flux\\.venv\\lib\\site-packages\\urllib3\\connectionpool.py:1097: InsecureRequestWarning: Unverified HTTPS request is being made to host 'udioapi.pro'. Adding certificate verification is strongly advised. See: https://urllib3.readthedocs.io/en/latest/advanced-usage.html#tls-warnings\n",
      "  warnings.warn(\n",
      "c:\\Users\\mhorovic\\flux\\.venv\\lib\\site-packages\\urllib3\\connectionpool.py:1097: InsecureRequestWarning: Unverified HTTPS request is being made to host 'udioapi.pro'. Adding certificate verification is strongly advised. See: https://urllib3.readthedocs.io/en/latest/advanced-usage.html#tls-warnings\n",
      "  warnings.warn(\n",
      "c:\\Users\\mhorovic\\flux\\.venv\\lib\\site-packages\\urllib3\\connectionpool.py:1097: InsecureRequestWarning: Unverified HTTPS request is being made to host 'udioapi.pro'. Adding certificate verification is strongly advised. See: https://urllib3.readthedocs.io/en/latest/advanced-usage.html#tls-warnings\n",
      "  warnings.warn(\n",
      "c:\\Users\\mhorovic\\flux\\.venv\\lib\\site-packages\\urllib3\\connectionpool.py:1097: InsecureRequestWarning: Unverified HTTPS request is being made to host 'udioapi.pro'. Adding certificate verification is strongly advised. See: https://urllib3.readthedocs.io/en/latest/advanced-usage.html#tls-warnings\n",
      "  warnings.warn(\n",
      "c:\\Users\\mhorovic\\flux\\.venv\\lib\\site-packages\\urllib3\\connectionpool.py:1097: InsecureRequestWarning: Unverified HTTPS request is being made to host 'udioapi.pro'. Adding certificate verification is strongly advised. See: https://urllib3.readthedocs.io/en/latest/advanced-usage.html#tls-warnings\n",
      "  warnings.warn(\n",
      "c:\\Users\\mhorovic\\flux\\.venv\\lib\\site-packages\\urllib3\\connectionpool.py:1097: InsecureRequestWarning: Unverified HTTPS request is being made to host 'udioapi.pro'. Adding certificate verification is strongly advised. See: https://urllib3.readthedocs.io/en/latest/advanced-usage.html#tls-warnings\n",
      "  warnings.warn(\n"
     ]
    },
    {
     "name": "stdout",
     "output_type": "stream",
     "text": [
      "INFO:     127.0.0.1:56011 - \"POST /generate_content HTTP/1.1\" 200 OK\n"
     ]
    },
    {
     "name": "stderr",
     "output_type": "stream",
     "text": [
      "2025-01-02 10:41:09,557 - INFO - Request 1735807269557 received - Prompt: I want an image with computer lion and sun\n",
      "2025-01-02 10:41:10,416 - INFO - HTTP Request: POST https://api.openai.com/v1/chat/completions \"HTTP/1.1 200 OK\"\n"
     ]
    },
    {
     "name": "stdout",
     "output_type": "stream",
     "text": [
      "INFO:     127.0.0.1:56077 - \"POST /generate_content HTTP/1.1\" 200 OK\n"
     ]
    },
    {
     "name": "stderr",
     "output_type": "stream",
     "text": [
      "2025-01-02 10:41:32,081 - INFO - Request 1735807292081 received - Prompt: i want a research paper about google\n",
      "2025-01-02 10:41:33,158 - INFO - HTTP Request: POST https://api.openai.com/v1/chat/completions \"HTTP/1.1 200 OK\"\n"
     ]
    },
    {
     "name": "stdout",
     "output_type": "stream",
     "text": [
      "INFO:     127.0.0.1:56090 - \"POST /generate_content HTTP/1.1\" 200 OK\n",
      "INFO:     127.0.0.1:56098 - \"GET /costs HTTP/1.1\" 200 OK\n"
     ]
    },
    {
     "name": "stderr",
     "output_type": "stream",
     "text": [
      "2025-01-02 10:41:33,903 - INFO - HTTP Request: POST https://api.openai.com/v1/chat/completions \"HTTP/1.1 200 OK\"\n",
      "2025-01-02 10:41:46,299 - INFO - Request 1735807292081 - Streaming completed. Total chunks: 1103, Duration: 12.88s\n"
     ]
    },
    {
     "name": "stdout",
     "output_type": "stream",
     "text": [
      "^C\n"
     ]
    }
   ],
   "source": [
    "!streamlit run src/ui/chat.py"
   ]
  },
  {
   "cell_type": "markdown",
   "metadata": {},
   "source": [
    "This will open your default browser with the chat interface at http://localhost:8501."
   ]
  },
  {
   "cell_type": "markdown",
   "metadata": {},
   "source": [
    "## Running the tests"
   ]
  },
  {
   "cell_type": "markdown",
   "metadata": {},
   "source": [
    "Run all tests with coverage report:"
   ]
  },
  {
   "cell_type": "code",
   "execution_count": 4,
   "metadata": {},
   "outputs": [
    {
     "name": "stdout",
     "output_type": "stream",
     "text": [
      "\u001b[1m============================= test session starts =============================\u001b[0m\n",
      "platform win32 -- Python 3.10.0, pytest-8.3.4, pluggy-1.5.0 -- c:\\Users\\mhorovic\\flux\\.venv\\Scripts\\python.exe\n",
      "cachedir: .pytest_cache\n",
      "rootdir: c:\\Users\\mhorovic\\OneDrive - Emerson\\Documents\\VSCode\\AI Engineer Assigment\n",
      "plugins: anyio-4.7.0, cov-6.0.0\n",
      "\u001b[1mcollecting ... \u001b[0mcollected 14 items\n",
      "\n",
      "tests/test_generators.py::TestMockGenerators::test_mock_image_generator \u001b[32mPASSED\u001b[0m\u001b[33m [  7%]\u001b[0m\n",
      "tests/test_generators.py::TestMockGenerators::test_mock_song_generator \u001b[32mPASSED\u001b[0m\u001b[33m [ 14%]\u001b[0m\n",
      "tests/test_generators.py::TestMockGenerators::test_mock_research_generator \u001b[32mPASSED\u001b[0m\u001b[33m [ 21%]\u001b[0m\n",
      "tests/test_generators.py::TestFluxImageGenerator::test_image_generation_failure \u001b[32mPASSED\u001b[0m\u001b[33m [ 28%]\u001b[0m\n",
      "tests/test_generators.py::TestSunoSongGenerator::test_song_generation_success \u001b[32mPASSED\u001b[0m\u001b[33m [ 35%]\u001b[0m\n",
      "tests/test_generators.py::TestSunoSongGenerator::test_song_generation_failure \u001b[32mPASSED\u001b[0m\u001b[33m [ 42%]\u001b[0m\n",
      "tests/test_generators.py::TestOpenAIResearchGenerator::test_research_generation_success \u001b[32mPASSED\u001b[0m\u001b[33m [ 50%]\u001b[0m\n",
      "tests/test_routers.py::TestMockRouter::test_route_research \u001b[32mPASSED\u001b[0m\u001b[33m        [ 57%]\u001b[0m\n",
      "tests/test_routers.py::TestMockRouter::test_route_song \u001b[32mPASSED\u001b[0m\u001b[33m            [ 64%]\u001b[0m\n",
      "tests/test_routers.py::TestMockRouter::test_route_default \u001b[32mPASSED\u001b[0m\u001b[33m         [ 71%]\u001b[0m\n",
      "tests/test_routers.py::TestOpenAIRouter::test_route_success \u001b[32mPASSED\u001b[0m\u001b[33m       [ 78%]\u001b[0m\n",
      "tests/test_service.py::TestFastAPIService::test_startup_event \u001b[32mPASSED\u001b[0m\u001b[33m     [ 85%]\u001b[0m\n",
      "tests/test_service.py::TestFastAPIService::test_generate_content_streaming \u001b[32mPASSED\u001b[0m\u001b[33m [ 92%]\u001b[0m\n",
      "tests/test_service.py::TestFastAPIService::test_invalid_request \u001b[32mPASSED\u001b[0m\u001b[33m   [100%]\u001b[0m\n",
      "\n",
      "\u001b[33m============================== warnings summary ===============================\u001b[0m\n",
      "src\\services\\service.py:127\n",
      "  c:\\Users\\mhorovic\\OneDrive - Emerson\\Documents\\VSCode\\AI Engineer Assigment\\src\\services\\service.py:127: DeprecationWarning: \n",
      "          on_event is deprecated, use lifespan event handlers instead.\n",
      "  \n",
      "          Read more about it in the\n",
      "          [FastAPI docs for Lifespan Events](https://fastapi.tiangolo.com/advanced/events/).\n",
      "          \n",
      "    @app.on_event(\"startup\")\n",
      "\n",
      "..\\..\\..\\..\\flux\\.venv\\lib\\site-packages\\fastapi\\applications.py:4495\n",
      "..\\..\\..\\..\\flux\\.venv\\lib\\site-packages\\fastapi\\applications.py:4495\n",
      "  c:\\Users\\mhorovic\\flux\\.venv\\lib\\site-packages\\fastapi\\applications.py:4495: DeprecationWarning: \n",
      "          on_event is deprecated, use lifespan event handlers instead.\n",
      "  \n",
      "          Read more about it in the\n",
      "          [FastAPI docs for Lifespan Events](https://fastapi.tiangolo.com/advanced/events/).\n",
      "          \n",
      "    return self.router.on_event(event_type)\n",
      "\n",
      "src\\services\\service.py:136\n",
      "  c:\\Users\\mhorovic\\OneDrive - Emerson\\Documents\\VSCode\\AI Engineer Assigment\\src\\services\\service.py:136: DeprecationWarning: \n",
      "          on_event is deprecated, use lifespan event handlers instead.\n",
      "  \n",
      "          Read more about it in the\n",
      "          [FastAPI docs for Lifespan Events](https://fastapi.tiangolo.com/advanced/events/).\n",
      "          \n",
      "    @app.on_event(\"shutdown\")\n",
      "\n",
      "-- Docs: https://docs.pytest.org/en/stable/how-to/capture-warnings.html\n",
      "\n",
      "---------- coverage: platform win32, python 3.10.0-final-0 -----------\n",
      "Name                                                 Stmts   Miss  Cover\n",
      "------------------------------------------------------------------------\n",
      "src\\__init__.py                                          0      0   100%\n",
      "src\\config.py                                           29      1    97%\n",
      "src\\services\\base.py                                    22      3    86%\n",
      "src\\services\\cost_tracker.py                            58     30    48%\n",
      "src\\services\\image\\flux_image_generator.py              37      4    89%\n",
      "src\\services\\image\\mock_image_generator.py              16      0   100%\n",
      "src\\services\\research\\mock_research_generator.py        23      0   100%\n",
      "src\\services\\research\\openai_research_generator.py      25      4    84%\n",
      "src\\services\\router\\mock_router.py                      16      0   100%\n",
      "src\\services\\router\\openai_router.py                    38     10    74%\n",
      "src\\services\\service.py                                 84     22    74%\n",
      "src\\services\\song\\mock_song_generator.py                13      0   100%\n",
      "src\\services\\song\\suno_song_generator.py                55     15    73%\n",
      "------------------------------------------------------------------------\n",
      "TOTAL                                                  416     89    79%\n",
      "\n",
      "\u001b[33m================== \u001b[32m14 passed\u001b[0m, \u001b[33m\u001b[1m4 warnings\u001b[0m\u001b[33m in 61.49s (0:01:01)\u001b[0m\u001b[33m ==================\u001b[0m\n",
      "\n"
     ]
    }
   ],
   "source": [
    "import subprocess\n",
    "import sys\n",
    "import os\n",
    "\n",
    "# Set up environment variables\n",
    "env = os.environ.copy()\n",
    "env[\"PYTHONPATH\"] = os.getcwd() + os.pathsep + os.path.join(os.getcwd(), \"src\")\n",
    "\n",
    "# Run pytest\n",
    "result = subprocess.run(\n",
    "    [\n",
    "        sys.executable,\n",
    "        \"-m\",\n",
    "        \"pytest\",\n",
    "        \"tests/\",\n",
    "        \"-v\",\n",
    "        \"--cov=src\"\n",
    "    ],\n",
    "    env=env,\n",
    "    capture_output=True,\n",
    "    text=True\n",
    ")\n",
    "\n",
    "# Print output\n",
    "print(result.stdout)\n",
    "if result.stderr:\n",
    "    print(\"\\nCoverage Report:\")\n",
    "    print(result.stderr)"
   ]
  },
  {
   "cell_type": "markdown",
   "metadata": {},
   "source": [
    "# Usage Examples"
   ]
  },
  {
   "cell_type": "markdown",
   "metadata": {},
   "source": [
    "## Generating Images"
   ]
  },
  {
   "cell_type": "code",
   "execution_count": 5,
   "metadata": {},
   "outputs": [
    {
     "name": "stdout",
     "output_type": "stream",
     "text": [
      "Generated image URL: https://delivery-eu1.bfl.ai/results/c422dc3e1a83469a87409e0887867025/sample.jpeg?se=2025-01-02T09%3A39%3A01Z&sp=r&sv=2024-11-04&sr=b&rsct=image/jpeg&sig=2SS5rBOxcqXbWJnAGyoyul3ytGtgb1hc1Funvvzv6MA%3D\n",
      "Cost: $0.04\n"
     ]
    }
   ],
   "source": [
    "from src.services.image.flux_image_generator import FluxImageGenerator\n",
    "\n",
    "# Initialize generator\n",
    "generator = FluxImageGenerator()\n",
    "\n",
    "# Generate an image\n",
    "content_type, image_url = generator.generate_content(\n",
    "    \"A beautiful sunset over mountains with purple and orange sky\"\n",
    ")\n",
    "\n",
    "print(f\"Generated image URL: {image_url}\")\n",
    "print(f\"Cost: ${generator.get_price()}\")"
   ]
  },
  {
   "cell_type": "markdown",
   "metadata": {},
   "source": [
    "## Generating Music"
   ]
  },
  {
   "cell_type": "code",
   "execution_count": null,
   "metadata": {},
   "outputs": [],
   "source": [
    "from src.services.song.suno_song_generator import SunoSongGenerator\n",
    "\n",
    "# Initialize generator\n",
    "generator = SunoSongGenerator()\n",
    "\n",
    "# Generate a song\n",
    "content_type, audio_url = generator.generate_content(\n",
    "    \"Create an upbeat pop song about summer with piano and drums\"\n",
    ")\n",
    "\n",
    "print(f\"Generated audio URL: {audio_url}\")\n",
    "print(f\"Cost: ${generator.get_price()}\")"
   ]
  },
  {
   "cell_type": "markdown",
   "metadata": {},
   "source": [
    "## Generating Research Content"
   ]
  },
  {
   "cell_type": "code",
   "execution_count": 6,
   "metadata": {},
   "outputs": [
    {
     "name": "stderr",
     "output_type": "stream",
     "text": [
      "2025-01-02 11:29:11,194 - INFO - HTTP Request: POST https://api.openai.com/v1/chat/completions \"HTTP/1.1 200 OK\"\n"
     ]
    },
    {
     "name": "stdout",
     "output_type": "stream",
     "text": [
      "**Title: The Impact of Artificial Intelligence on Healthcare: Transformations, Challenges, and Future Directions**\n",
      "\n",
      "**Abstract**\n",
      "\n",
      "The integration of Artificial Intelligence (AI) into the healthcare sector represents one of the most significant advancements in medical science and practice. This paper explores the multifaceted impact of AI on healthcare, including enhancements in diagnostic accuracy, patient management, and treatment personalization. It also addresses the ethical dilemmas, data privacy concerns, and challenges in the implementation of AI technologies. Through a comprehensive review of literature, case studies, and ongoing research, we aim to delineate the promise and potential pitfalls of AI in healthcare, providing insights into future directions for research and application.\n",
      "\n",
      "**1. Introduction**\n",
      "\n",
      "Artificial Intelligence has emerged as a transformative force across various sectors, with healthcare being one of the most profoundly impacted fields. AI refers to the simulation of human intelligence in machines programmed to think and learn like humans. As of October 2023, technologies such as machine learning, natural language processing, and computer vision have shown remarkable capabilities in automating clinical tasks, assisting in diagnoses, and enhancing treatment plans. This paper investigates the current state of AI in healthcare, analyzing its impact on clinical and operational aspects of healthcare delivery.\n",
      "\n",
      "**2. Overview of AI Technologies in Healthcare**\n",
      "\n",
      "AI in healthcare encompasses a range of technologies:\n",
      "\n",
      "- **Machine Learning (ML)**: Algorithms that improve automatically through experience and data.\n",
      "- **Natural Language Processing (NLP)**: Technologies that enable machines to understand and interpret human language.\n",
      "- **Computer Vision**: AI systems that can analyze and interpret visual data.\n",
      "- **Robotics**: Robots that assist in surgeries or patient care.\n",
      "\n",
      "Each technology plays a pivotal role in enhancing the efficacy and efficiency of healthcare services.\n",
      "\n",
      "**3. Impact on Diagnostics and Patient Outcomes**\n",
      "\n",
      "3.1 Diagnostic Accuracy\n",
      "AI systems have demonstrated superior accuracy in diagnostic tasks, especially in fields like radiology and pathology. A study published in *Nature* found that AI algorithms could identify cancers in radiological images with an accuracy of over 90%, outperforming human radiologists in some cases. These advanced diagnostic capabilities facilitate earlier detection and better patient outcomes.\n",
      "\n",
      "3.2 Predictive Analytics\n",
      "AI harnesses vast datasets to predict disease progression and patient outcomes. Machine learning models can analyze historical patient data to forecast potential health risks, enabling healthcare providers to implement preventive measures and personalized treatment plans effectively.\n",
      "\n",
      "3.3 Patient Management and Monitoring\n",
      "AI applications such as chatbots and virtual health assistants enhance patient engagement and self-management. These tools provide instant support for patients, reminding them of medication schedules and facilitating appointment bookings, which significantly improves patient adherence to treatment regimens.\n",
      "\n",
      "**4. Operational Efficiency**\n",
      "\n",
      "The operational aspects of healthcare have also benefited from AI:\n",
      "\n",
      "4.1 Administrative Automation\n",
      "AI tools streamline administrative tasks such as billing, scheduling, and documentation. By automating routine tasks, healthcare organizations can reduce costs and redirect resources towards patient care.\n",
      "\n",
      "4.2 Resource Management\n",
      "AI systems analyze data to predict patient admission rates and optimize resource allocation. Hospitals can manage staffing, bed occupancy, and inventory more efficiently, enhancing overall service delivery.\n",
      "\n",
      "**5. Ethical and Data Privacy Concerns**\n",
      "\n",
      "Despite its advantages, the integration of AI in healthcare presents significant ethical considerations:\n",
      "\n",
      "5.1 Bias in AI Algorithms\n",
      "Data bias can lead to disparities in treatment outcomes. Studies have indicated that algorithms trained on non-representative datasets may perpetuate existing health disparities. Continuous monitoring and refining of AI systems are crucial to mitigate these biases.\n",
      "\n",
      "5.2 Privacy and Security\n",
      "The use of AI involves handling sensitive patient data, raising concerns about data breaches and privacy violations. Healthcare organizations must prioritize data security measures to protect patient information while complying with regulations such as HIPAA.\n",
      "\n",
      "5.3 Trust and Transparency\n",
      "Patients and healthcare professionals must have confidence in AI systems. Ensuring transparency in AI decision-making processes is essential for gaining acceptance and trust.\n",
      "\n",
      "**6. Future Directions and Conclusion**\n",
      "\n",
      "As of October 2023, the future of AI in healthcare appears promising. Continued advancements in technology will likely lead to even more sophisticated AI applications. However, sustainable integration of AI requires a multi-faceted approach that includes stakeholder collaboration, robust regulatory frameworks, and ongoing research into ethical implications.\n",
      "\n",
      "In conclusion, AI holds the potential to revolutionize healthcare delivery, improving patient outcomes and operational efficiency. However, addressing the ethical, privacy, and bias concerns is paramount for harnessing AI's full potential. Future research should focus on developing more inclusive datasets, enhancing clinician-AI collaboration, and creating comprehensive policies that govern AI usage in healthcare.\n",
      "\n",
      "**References**\n",
      "\n",
      "1. Esteva, A., Kup rel, B., & Blau, H. (2019). \"Deep learning for dermatology: A review.\" *Nature*.\n",
      "2. Obermeyer, Z., & Emanuel, E. J. (2016). \"Predicting the Future—Big Data, Machine Learning, and Clinical Medicine.\" *New England Journal of Medicine*.\n",
      "3. Challen, R., Denny, J., & Witek, M. (2019). \"Artificial intelligence in healthcare: Anticipating challenges to ethics, privacy, and bias.\" *Journal of Medical Ethics*.\n",
      "4. Shaban-Nejad, A., & Michalowski, M. (2021). “AI in healthcare: Applications, ethics, and service user perspective.” *International Journal of AI in Healthcare*.\n",
      "\n",
      "*Note: Reference materials and studies cited are fictional and for illustrative purposes in this example research paper.*\n",
      "Cost: $0.01\n"
     ]
    }
   ],
   "source": [
    "from src.services.research.openai_research_generator import OpenAIResearchGenerator\n",
    "\n",
    "# Initialize generator\n",
    "generator = OpenAIResearchGenerator()\n",
    "\n",
    "# Generate research content (streaming)\n",
    "prompt = \"Write a research paper about the impact of AI on healthcare\"\n",
    "for content_chunk in generator.generate_content(prompt):\n",
    "    print(content_chunk, end='')\n",
    "\n",
    "print(f\"\\nCost: ${generator.get_price()}\")"
   ]
  },
  {
   "cell_type": "markdown",
   "metadata": {},
   "source": [
    "## Using the Cost Tracker"
   ]
  },
  {
   "cell_type": "code",
   "execution_count": 7,
   "metadata": {},
   "outputs": [
    {
     "name": "stdout",
     "output_type": "stream",
     "text": [
      "Total spent: $0.5500000000000003\n",
      "Remaining budget: $19.45\n",
      "Costs by type: {'OpenAIRouter': 0.17, 'FluxImageGenerator': 0.12, 'SunoSongGenerator': 0.1, 'OpenAIResearchGenerator': 0.11999999999999998, 'image': 0.04}\n"
     ]
    }
   ],
   "source": [
    "from src.services.cost_tracker import CostTracker\n",
    "\n",
    "# Initialize tracker\n",
    "tracker = CostTracker()\n",
    "\n",
    "# Track a new cost\n",
    "record_id = tracker.track_cost(\n",
    "    content_type=\"image\",\n",
    "    cost=0.04,\n",
    "    prompt=\"Generate sunset image\"\n",
    ")\n",
    "\n",
    "# Get cost summary\n",
    "costs = tracker.get_costs()\n",
    "print(f\"Total spent: ${costs['total_cost']}\")\n",
    "print(f\"Remaining budget: ${costs['remaining_budget']}\")\n",
    "print(\"Costs by type:\", costs['costs_by_type'])"
   ]
  }
 ],
 "metadata": {
  "kernelspec": {
   "display_name": "Python (flux)",
   "language": "python",
   "name": "flux-env"
  },
  "language_info": {
   "codemirror_mode": {
    "name": "ipython",
    "version": 3
   },
   "file_extension": ".py",
   "mimetype": "text/x-python",
   "name": "python",
   "nbconvert_exporter": "python",
   "pygments_lexer": "ipython3",
   "version": "3.10.0"
  }
 },
 "nbformat": 4,
 "nbformat_minor": 2
}
